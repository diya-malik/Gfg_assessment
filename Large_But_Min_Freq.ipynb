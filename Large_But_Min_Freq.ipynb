{
 "cells": [
  {
   "cell_type": "code",
   "execution_count": 1,
   "metadata": {},
   "outputs": [
    {
     "name": "stdout",
     "output_type": "stream",
     "text": [
      "9\n"
     ]
    }
   ],
   "source": [
    "# Find the largest number that occurs minimum number of times in an array using HashMap\n",
    "\n",
    "def LargeButMinFre(array,n):\n",
    "    # Create a dictionary to store the frequency of each element\n",
    "    freq = {}\n",
    "    for i in array:\n",
    "        if i in freq:\n",
    "            freq[i] += 1\n",
    "        else:\n",
    "            freq[i] = 1\n",
    "    # Find the minimum frequency\n",
    "    min_freq = min(freq.values())\n",
    "    # Find the largest number that occurs minimum number of times\n",
    "    max_num = max([i for i in freq.keys() if freq[i] == min_freq])\n",
    "    return max_num\n",
    "\n",
    "# Driver code\n",
    "array = [1, 2, 3, 4, 5, 6, 7, 8, 9, 10, 10, 10, 10, 10]\n",
    "n = len(array)\n",
    "print(LargeButMinFre(array,n))\n"
   ]
  },
  {
   "cell_type": "code",
   "execution_count": 6,
   "metadata": {},
   "outputs": [
    {
     "name": "stdout",
     "output_type": "stream",
     "text": [
      "9\n"
     ]
    }
   ],
   "source": [
    "def LBMF(array,n):\n",
    "    freq={}\n",
    "    for i in array:\n",
    "        if i in freq:\n",
    "            freq[i]+=1\n",
    "        else:\n",
    "            freq[i]=1\n",
    "    min_freq=min(freq.values())\n",
    "    max_num=0\n",
    "    for i in freq.keys():\n",
    "        if freq[i]==min_freq:\n",
    "            if i>max_num:\n",
    "                max_num=i\n",
    "    return max_num\n",
    "\n",
    "# Driver code\n",
    "array = [1, 2, 3, 4, 5, 6, 7, 8, 9, 10, 10, 10, 10, 10]\n",
    "n = len(array)\n",
    "print(LBMF(array,n))"
   ]
  },
  {
   "cell_type": "code",
   "execution_count": null,
   "metadata": {},
   "outputs": [],
   "source": [
    "def LargeButMinFre(array,n):\n",
    "    freq = {}\n",
    "    for i in array:\n",
    "        if i in freq:\n",
    "            freq[i] += 1\n",
    "        else:\n",
    "            freq[i] = 1\n",
    "    #Minimum Frequency\n",
    "    min_freq = min(freq.values())\n",
    "    #Largest number that occurs minimum number of times\n",
    "    max_num = max([i for i in freq.keys() if freq[i] == min_freq])\n",
    "    return max_num\n",
    "\n",
    "#driver code\n",
    "array=[2,2,3,4]\n",
    "print(LargeButMinFre(array,len(array)))\n"
   ]
  }
 ],
 "metadata": {
  "kernelspec": {
   "display_name": "Python 3",
   "language": "python",
   "name": "python3"
  },
  "language_info": {
   "codemirror_mode": {
    "name": "ipython",
    "version": 3
   },
   "file_extension": ".py",
   "mimetype": "text/x-python",
   "name": "python",
   "nbconvert_exporter": "python",
   "pygments_lexer": "ipython3",
   "version": "3.10.4"
  },
  "orig_nbformat": 4,
  "vscode": {
   "interpreter": {
    "hash": "3656047be66bafa835485e83a43b8ac0ec63db5d7f746ec5d9838e6110b2ff8b"
   }
  }
 },
 "nbformat": 4,
 "nbformat_minor": 2
}
