{
 "cells": [
  {
   "cell_type": "code",
   "execution_count": 3,
   "metadata": {},
   "outputs": [
    {
     "name": "stdout",
     "output_type": "stream",
     "text": [
      "1\n",
      "0\n"
     ]
    }
   ],
   "source": [
    "t=int(input())\n",
    "while t>0:\n",
    "    number=list(map(int,input().split()))\n",
    "    if (number[0]%2==0 and number[1]%2==0 and number[2]%2==0) or (number[0]%2!=0 and number[1]%2!=0 and number[2]%2!=0):\n",
    "        print(0)\n",
    "    else:\n",
    "        print(1)\n",
    "    t-=1"
   ]
  }
 ],
 "metadata": {
  "kernelspec": {
   "display_name": "Python 3",
   "language": "python",
   "name": "python3"
  },
  "language_info": {
   "codemirror_mode": {
    "name": "ipython",
    "version": 3
   },
   "file_extension": ".py",
   "mimetype": "text/x-python",
   "name": "python",
   "nbconvert_exporter": "python",
   "pygments_lexer": "ipython3",
   "version": "3.10.4 (tags/v3.10.4:9d38120, Mar 23 2022, 23:13:41) [MSC v.1929 64 bit (AMD64)]"
  },
  "orig_nbformat": 4,
  "vscode": {
   "interpreter": {
    "hash": "3656047be66bafa835485e83a43b8ac0ec63db5d7f746ec5d9838e6110b2ff8b"
   }
  }
 },
 "nbformat": 4,
 "nbformat_minor": 2
}
