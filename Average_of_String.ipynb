{
 "cells": [
  {
   "cell_type": "code",
   "execution_count": 3,
   "metadata": {},
   "outputs": [
    {
     "name": "stdout",
     "output_type": "stream",
     "text": [
      "97\n",
      "98\n"
     ]
    }
   ],
   "source": [
    "import math\n",
    "t=int(input())\n",
    "while t>0:\n",
    "    str=input()\n",
    "    sum=0\n",
    "    for i in str:\n",
    "        sum+=ord(i)\n",
    "    print(math.floor(sum/len(str)))\n",
    "    t-=1"
   ]
  }
 ],
 "metadata": {
  "kernelspec": {
   "display_name": "Python 3",
   "language": "python",
   "name": "python3"
  },
  "language_info": {
   "codemirror_mode": {
    "name": "ipython",
    "version": 3
   },
   "file_extension": ".py",
   "mimetype": "text/x-python",
   "name": "python",
   "nbconvert_exporter": "python",
   "pygments_lexer": "ipython3",
   "version": "3.10.4 (tags/v3.10.4:9d38120, Mar 23 2022, 23:13:41) [MSC v.1929 64 bit (AMD64)]"
  },
  "orig_nbformat": 4,
  "vscode": {
   "interpreter": {
    "hash": "3656047be66bafa835485e83a43b8ac0ec63db5d7f746ec5d9838e6110b2ff8b"
   }
  }
 },
 "nbformat": 4,
 "nbformat_minor": 2
}
